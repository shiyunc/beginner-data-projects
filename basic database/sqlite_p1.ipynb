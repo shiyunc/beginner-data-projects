{
 "cells": [
  {
   "cell_type": "markdown",
   "id": "8bfcc7ed",
   "metadata": {},
   "source": [
    "## Sqlite + Python: create simple database using jupyter notebook"
   ]
  },
  {
   "cell_type": "code",
   "execution_count": 11,
   "id": "09aebc91",
   "metadata": {},
   "outputs": [],
   "source": [
    "# import libraries\n",
    "import pandas as pd\n",
    "\n",
    "# to create database\n",
    "import sqlite3 as db"
   ]
  },
  {
   "cell_type": "code",
   "execution_count": 12,
   "id": "2ac60463",
   "metadata": {},
   "outputs": [
    {
     "data": {
      "text/html": [
       "<div>\n",
       "<style scoped>\n",
       "    .dataframe tbody tr th:only-of-type {\n",
       "        vertical-align: middle;\n",
       "    }\n",
       "\n",
       "    .dataframe tbody tr th {\n",
       "        vertical-align: top;\n",
       "    }\n",
       "\n",
       "    .dataframe thead th {\n",
       "        text-align: right;\n",
       "    }\n",
       "</style>\n",
       "<table border=\"1\" class=\"dataframe\">\n",
       "  <thead>\n",
       "    <tr style=\"text-align: right;\">\n",
       "      <th></th>\n",
       "      <th>name</th>\n",
       "      <th>age</th>\n",
       "      <th>weight</th>\n",
       "    </tr>\n",
       "  </thead>\n",
       "  <tbody>\n",
       "    <tr>\n",
       "      <th>0</th>\n",
       "      <td>Anna</td>\n",
       "      <td>5</td>\n",
       "      <td>30.3</td>\n",
       "    </tr>\n",
       "    <tr>\n",
       "      <th>1</th>\n",
       "      <td>Bill</td>\n",
       "      <td>10</td>\n",
       "      <td>49.2</td>\n",
       "    </tr>\n",
       "    <tr>\n",
       "      <th>2</th>\n",
       "      <td>Carl</td>\n",
       "      <td>15</td>\n",
       "      <td>59.4</td>\n",
       "    </tr>\n",
       "    <tr>\n",
       "      <th>3</th>\n",
       "      <td>Dig</td>\n",
       "      <td>20</td>\n",
       "      <td>70.8</td>\n",
       "    </tr>\n",
       "  </tbody>\n",
       "</table>\n",
       "</div>"
      ],
      "text/plain": [
       "   name  age  weight\n",
       "0  Anna    5    30.3\n",
       "1  Bill   10    49.2\n",
       "2  Carl   15    59.4\n",
       "3   Dig   20    70.8"
      ]
     },
     "execution_count": 12,
     "metadata": {},
     "output_type": "execute_result"
    }
   ],
   "source": [
    "# create a dataframe\n",
    "\n",
    "df = pd.DataFrame({'name': ['Anna', 'Bill', 'Carl', 'Dig'],\n",
    "                   'age': [5, 10, 15, 20],\n",
    "                   'weight': [30.3, 49.2, 59.4, 70.8]})\n",
    "\n",
    "# read dataframe\n",
    "df"
   ]
  },
  {
   "cell_type": "markdown",
   "id": "c8da5dfa",
   "metadata": {},
   "source": [
    "### Sqlite connect to database"
   ]
  },
  {
   "cell_type": "markdown",
   "id": "c6fc291f",
   "metadata": {},
   "source": [
    "> No database"
   ]
  },
  {
   "cell_type": "code",
   "execution_count": 13,
   "id": "e48fdbe1",
   "metadata": {},
   "outputs": [],
   "source": [
    "# connection will create a database\n",
    "\n",
    "connection = db.connect('sqlp1.db')\n",
    "\n",
    "# existing database will create a connection"
   ]
  },
  {
   "cell_type": "code",
   "execution_count": 14,
   "id": "a7ed2375",
   "metadata": {},
   "outputs": [
    {
     "data": {
      "text/plain": [
       "4"
      ]
     },
     "execution_count": 14,
     "metadata": {},
     "output_type": "execute_result"
    }
   ],
   "source": [
    "# apply _sql from pandas to add data to database\n",
    "# df.to_sql('table_name', connection_name) to create a table in database to run queries\n",
    "\n",
    "df.to_sql('table1', connection)"
   ]
  },
  {
   "cell_type": "code",
   "execution_count": 15,
   "id": "01ba0f4b",
   "metadata": {},
   "outputs": [
    {
     "name": "stdout",
     "output_type": "stream",
     "text": [
      "The sql extension is already loaded. To reload it, use:\n",
      "  %reload_ext sql\n"
     ]
    }
   ],
   "source": [
    "# load sql to ipython\n",
    "\n",
    "%load_ext sql"
   ]
  },
  {
   "cell_type": "code",
   "execution_count": 16,
   "id": "b345d9d5",
   "metadata": {},
   "outputs": [
    {
     "data": {
      "text/plain": [
       "'Connected: @sqlp1.db'"
      ]
     },
     "execution_count": 16,
     "metadata": {},
     "output_type": "execute_result"
    }
   ],
   "source": [
    "# refer to the database\n",
    "\n",
    "%sql sqlite:///sqlp1.db"
   ]
  },
  {
   "cell_type": "code",
   "execution_count": 17,
   "id": "d7c90d66",
   "metadata": {},
   "outputs": [
    {
     "name": "stdout",
     "output_type": "stream",
     "text": [
      " * sqlite:///sqlp1.db\n",
      "Done.\n"
     ]
    },
    {
     "data": {
      "text/html": [
       "<table>\n",
       "    <thead>\n",
       "        <tr>\n",
       "            <th>index</th>\n",
       "            <th>name</th>\n",
       "            <th>age</th>\n",
       "            <th>weight</th>\n",
       "        </tr>\n",
       "    </thead>\n",
       "    <tbody>\n",
       "        <tr>\n",
       "            <td>0</td>\n",
       "            <td>Anna</td>\n",
       "            <td>5</td>\n",
       "            <td>30.3</td>\n",
       "        </tr>\n",
       "        <tr>\n",
       "            <td>1</td>\n",
       "            <td>Bill</td>\n",
       "            <td>10</td>\n",
       "            <td>49.2</td>\n",
       "        </tr>\n",
       "        <tr>\n",
       "            <td>2</td>\n",
       "            <td>Carl</td>\n",
       "            <td>15</td>\n",
       "            <td>59.4</td>\n",
       "        </tr>\n",
       "        <tr>\n",
       "            <td>3</td>\n",
       "            <td>Dig</td>\n",
       "            <td>20</td>\n",
       "            <td>70.8</td>\n",
       "        </tr>\n",
       "    </tbody>\n",
       "</table>"
      ],
      "text/plain": [
       "[(0, 'Anna', 5, 30.3),\n",
       " (1, 'Bill', 10, 49.2),\n",
       " (2, 'Carl', 15, 59.4),\n",
       " (3, 'Dig', 20, 70.8)]"
      ]
     },
     "execution_count": 17,
     "metadata": {},
     "output_type": "execute_result"
    }
   ],
   "source": [
    "%%sql\n",
    "\n",
    "SELECT * FROM table1;"
   ]
  }
 ],
 "metadata": {
  "kernelspec": {
   "display_name": "Python 3 (ipykernel)",
   "language": "python",
   "name": "python3"
  },
  "language_info": {
   "codemirror_mode": {
    "name": "ipython",
    "version": 3
   },
   "file_extension": ".py",
   "mimetype": "text/x-python",
   "name": "python",
   "nbconvert_exporter": "python",
   "pygments_lexer": "ipython3",
   "version": "3.11.4"
  }
 },
 "nbformat": 4,
 "nbformat_minor": 5
}
