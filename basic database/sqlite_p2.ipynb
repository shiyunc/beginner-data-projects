{
 "cells": [
  {
   "cell_type": "markdown",
   "id": "106850df",
   "metadata": {},
   "source": [
    "## Sqlite + Python: create, update and insert simple database using jupyter notebook"
   ]
  },
  {
   "cell_type": "markdown",
   "id": "83bc5edc",
   "metadata": {},
   "source": [
    "### Import sqlite and pandas"
   ]
  },
  {
   "cell_type": "code",
   "execution_count": 102,
   "id": "5c27e019",
   "metadata": {},
   "outputs": [],
   "source": [
    "# import libraries\n",
    "import pandas as pd\n",
    "\n",
    "# to create database\n",
    "import sqlite3 as db"
   ]
  },
  {
   "cell_type": "markdown",
   "id": "dcb9d5ae",
   "metadata": {},
   "source": [
    "### Connect to a database"
   ]
  },
  {
   "cell_type": "code",
   "execution_count": 103,
   "id": "527638a2",
   "metadata": {},
   "outputs": [],
   "source": [
    "# connect to a database\n",
    "# no database exist need to create new db file\n",
    "conn = db.connect('sqlp2.db')"
   ]
  },
  {
   "cell_type": "markdown",
   "id": "f2ca7ca1",
   "metadata": {},
   "source": [
    "### Create a table with columns"
   ]
  },
  {
   "cell_type": "code",
   "execution_count": 104,
   "id": "cc02af68",
   "metadata": {},
   "outputs": [],
   "source": [
    "# cursor execute statement to interact with the database\n",
    "cursor = conn.cursor()\n",
    "\n",
    "# execute will create a table\n",
    "cursor.execute(\"CREATE TABLE students(id INTEGER PRIMARY KEY, name TEXT, course TEXT, score REAL)\")\n",
    "conn.commit()"
   ]
  },
  {
   "cell_type": "markdown",
   "id": "1e7bd090",
   "metadata": {},
   "source": [
    "### Insert data"
   ]
  },
  {
   "cell_type": "code",
   "execution_count": 105,
   "id": "a8f33203",
   "metadata": {},
   "outputs": [],
   "source": [
    "# apply execute to insert data into table\n",
    "cursor.execute(\"INSERT INTO students (name, course, score) VALUES (?, ?, ?)\", ('aaz', 'Computer Engineering', 80))\n",
    "cursor.execute(\"INSERT INTO students (name, course, score) VALUES (?, ?, ?)\", ('baz', 'Electrical Engineering', 100))\n",
    "cursor.execute(\"INSERT INTO students (name, course, score) VALUES (?, ?, ?)\", ('caz', 'Material Engineering', 30))\n",
    "cursor.execute(\"INSERT INTO students (name, course, score) VALUES (?, ?, ?)\", ('daz', 'Mechanical Engineering', 70))\n",
    "conn.commit()\n"
   ]
  },
  {
   "cell_type": "markdown",
   "id": "4cef3729",
   "metadata": {},
   "source": [
    "### Apply fetchall( ) to display the results"
   ]
  },
  {
   "cell_type": "code",
   "execution_count": 106,
   "id": "f572631d",
   "metadata": {},
   "outputs": [
    {
     "name": "stdout",
     "output_type": "stream",
     "text": [
      "(1, 'aaz', 'Computer Engineering', 80.0)\n",
      "(2, 'baz', 'Electrical Engineering', 100.0)\n",
      "(3, 'caz', 'Material Engineering', 30.0)\n",
      "(4, 'daz', 'Mechanical Engineering', 70.0)\n"
     ]
    }
   ],
   "source": [
    "# apply execute to query data from table\n",
    "cursor.execute(\"SELECT * FROM students\")\n",
    "\n",
    "# display results\n",
    "rows = cursor.fetchall()\n",
    "for row in rows:\n",
    "    print(row)"
   ]
  },
  {
   "cell_type": "markdown",
   "id": "e23ee873",
   "metadata": {},
   "source": [
    "### Update data"
   ]
  },
  {
   "cell_type": "code",
   "execution_count": 107,
   "id": "3adf4c2b",
   "metadata": {},
   "outputs": [],
   "source": [
    "# apply execute to update table\n",
    "\n",
    "cursor.execute(\"UPDATE students SET score = ? WHERE id = ?\", (90, 1))\n",
    "conn.commit()"
   ]
  },
  {
   "cell_type": "code",
   "execution_count": 108,
   "id": "8face2a0",
   "metadata": {},
   "outputs": [
    {
     "name": "stdout",
     "output_type": "stream",
     "text": [
      "(1, 'aaz', 'Computer Engineering', 90.0)\n",
      "(2, 'baz', 'Electrical Engineering', 100.0)\n",
      "(3, 'caz', 'Material Engineering', 30.0)\n",
      "(4, 'daz', 'Mechanical Engineering', 70.0)\n"
     ]
    }
   ],
   "source": [
    "# apply execute to query data from table\n",
    "cursor.execute(\"SELECT * FROM students\")\n",
    "\n",
    "# display the result\n",
    "rows = cursor.fetchall()\n",
    "for row in rows:\n",
    "    print(row)"
   ]
  },
  {
   "cell_type": "markdown",
   "id": "85384747",
   "metadata": {},
   "source": [
    "### Delete data"
   ]
  },
  {
   "cell_type": "code",
   "execution_count": 109,
   "id": "108d0cae",
   "metadata": {},
   "outputs": [],
   "source": [
    "# apply execute to delete table\n",
    "cursor.execute(\"DELETE FROM students WHERE id = ?\", (2,))\n",
    "conn.commit()"
   ]
  },
  {
   "cell_type": "code",
   "execution_count": 110,
   "id": "57798b7b",
   "metadata": {},
   "outputs": [
    {
     "name": "stdout",
     "output_type": "stream",
     "text": [
      "(1, 'aaz', 'Computer Engineering', 90.0)\n",
      "(3, 'caz', 'Material Engineering', 30.0)\n",
      "(4, 'daz', 'Mechanical Engineering', 70.0)\n"
     ]
    }
   ],
   "source": [
    "# apply execute to query data from table\n",
    "cursor.execute(\"SELECT * FROM students\")\n",
    "\n",
    "# display the results\n",
    "rows = cursor.fetchall()\n",
    "for row in rows:\n",
    "    print(row)"
   ]
  }
 ],
 "metadata": {
  "kernelspec": {
   "display_name": "Python 3 (ipykernel)",
   "language": "python",
   "name": "python3"
  },
  "language_info": {
   "codemirror_mode": {
    "name": "ipython",
    "version": 3
   },
   "file_extension": ".py",
   "mimetype": "text/x-python",
   "name": "python",
   "nbconvert_exporter": "python",
   "pygments_lexer": "ipython3",
   "version": "3.11.4"
  }
 },
 "nbformat": 4,
 "nbformat_minor": 5
}
