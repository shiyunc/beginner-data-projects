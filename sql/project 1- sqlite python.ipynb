{
 "cells": [
  {
   "cell_type": "markdown",
   "id": "a7367803",
   "metadata": {},
   "source": [
    "## Sqlite + Python- cheatsheet "
   ]
  },
  {
   "cell_type": "markdown",
   "id": "5c633960",
   "metadata": {},
   "source": [
    "### Import sqlite "
   ]
  },
  {
   "cell_type": "code",
   "execution_count": null,
   "id": "21b7765d",
   "metadata": {},
   "outputs": [],
   "source": [
    "# to create database\n",
    "import sqlite3"
   ]
  },
  {
   "cell_type": "markdown",
   "id": "9a6495b1",
   "metadata": {},
   "source": [
    "### Connect to a database"
   ]
  },
  {
   "cell_type": "code",
   "execution_count": null,
   "id": "271de9db",
   "metadata": {},
   "outputs": [],
   "source": [
    "# connect to a database\n",
    "# no database exist need to create new db file\n",
    "\n",
    "db = sqlite3.connect('database.db')"
   ]
  },
  {
   "cell_type": "markdown",
   "id": "a11ddc92",
   "metadata": {},
   "source": [
    "### Create a table with columns"
   ]
  },
  {
   "cell_type": "code",
   "execution_count": null,
   "id": "495e5e08",
   "metadata": {},
   "outputs": [],
   "source": [
    "import sqlite3\n",
    "\n",
    "def create_table():\n",
    "  db = sqlite3.connect('database.db')\n",
    "  cursor = db.cursor()\n",
    "  cursor.execute(\"\"\"\n",
    "    CREATE TABLE IF NOT EXISTS students (\n",
    "      id integer PRIMARY KEY,\n",
    "      name text NOT NULL,\n",
    "      quantity integer,\n",
    "      score real\n",
    "    )\n",
    "  \"\"\")\n",
    "  db.commit()\n",
    "  db.close()"
   ]
  },
  {
   "cell_type": "markdown",
   "id": "ea1e7f83",
   "metadata": {},
   "source": [
    "### Insert data"
   ]
  },
  {
   "cell_type": "code",
   "execution_count": null,
   "id": "d4799cea",
   "metadata": {},
   "outputs": [],
   "source": [
    "# apply execute to insert data into table\n",
    "\n",
    "data = ('aaz', 'Computer Engineering', 80)\n",
    "cursor.execute(\"INSERT INTO students (name, course, score) VALUES (?, ?, ?)\", data)"
   ]
  },
  {
   "cell_type": "code",
   "execution_count": null,
   "id": "5f208905",
   "metadata": {},
   "outputs": [],
   "source": [
    "def insert_data(values):\n",
    "  db = sqlite3.connect('database.db')\n",
    "  cursor = db.cursor()\n",
    "  cursor.execute(\"INSERT INTO students VALUES (?, ?, ?, ?)\", values)\n",
    "  db.commit()\n",
    "  db.close()\n",
    "\n",
    "# data\n",
    "insert_data( ('aaz', 'Computer Engineering', 80))"
   ]
  },
  {
   "cell_type": "markdown",
   "id": "812df254",
   "metadata": {},
   "source": [
    "### Commit changes to database"
   ]
  },
  {
   "cell_type": "code",
   "execution_count": null,
   "id": "fe0eafc6",
   "metadata": {},
   "outputs": [],
   "source": [
    "db.commit()"
   ]
  },
  {
   "cell_type": "markdown",
   "id": "c1ce5c36",
   "metadata": {},
   "source": [
    "### Close connection"
   ]
  },
  {
   "cell_type": "code",
   "execution_count": null,
   "id": "d4782449",
   "metadata": {},
   "outputs": [],
   "source": [
    "db.close()"
   ]
  },
  {
   "cell_type": "markdown",
   "id": "2e141dd3",
   "metadata": {},
   "source": [
    "### Display data"
   ]
  },
  {
   "cell_type": "code",
   "execution_count": null,
   "id": "2f7028db",
   "metadata": {},
   "outputs": [],
   "source": [
    "def display_data():\n",
    "  db = sqlite3.connect('database.db')\n",
    "  cursor = db.cursor()\n",
    "  cursor.execute(\"SELECT * FROM students\")\n",
    "  rows = cursor.fetchall()\n",
    "  db.close()\n",
    "  return rows"
   ]
  },
  {
   "cell_type": "markdown",
   "id": "19b28173",
   "metadata": {},
   "source": [
    "### Filter data"
   ]
  },
  {
   "cell_type": "code",
   "execution_count": null,
   "id": "7c9f9d13",
   "metadata": {},
   "outputs": [],
   "source": [
    "def filter_data(name):\n",
    "  db = sqlite3.connect('database.db')\n",
    "  cursor = db.cursor()\n",
    "  cursor.execute(\"SELECT * FROM students WHERE name=?\", (name,))\n",
    "  row = cursor.fetchone()  \n",
    "  db.close()\n",
    "  return row"
   ]
  },
  {
   "cell_type": "markdown",
   "id": "cc7302ec",
   "metadata": {},
   "source": [
    "### Update data"
   ]
  },
  {
   "cell_type": "code",
   "execution_count": null,
   "id": "4c71e569",
   "metadata": {},
   "outputs": [],
   "source": [
    "def update_data(new_quantity, name):\n",
    "  db = sqlite3.connect('database.db')\n",
    "  cursor = db.cursor()\n",
    "  cursor.execute(\"UPDATE students SET quantity =? WHERE name=?\", \n",
    "                 (score, name))\n",
    "  db.commit()\n",
    "  db.close()\n",
    "\n",
    "# data  \n",
    "update_data(100, 'astudent')"
   ]
  },
  {
   "cell_type": "markdown",
   "id": "bc312913",
   "metadata": {},
   "source": [
    "### Delete data"
   ]
  },
  {
   "cell_type": "code",
   "execution_count": null,
   "id": "2b24e59e",
   "metadata": {},
   "outputs": [],
   "source": [
    "def delete_data(name):\n",
    "  db = sqlite3.connect('database.db')\n",
    "  cursor = db.cursor()\n",
    "  cursor.execute(\"DELETE FROM students WHERE name=?\", (name,))\n",
    "  db.commit() \n",
    "  db.close()\n",
    "\n",
    "# data\n",
    "delete_data('bstudent')"
   ]
  }
 ],
 "metadata": {
  "kernelspec": {
   "display_name": "Python 3 (ipykernel)",
   "language": "python",
   "name": "python3"
  },
  "language_info": {
   "codemirror_mode": {
    "name": "ipython",
    "version": 3
   },
   "file_extension": ".py",
   "mimetype": "text/x-python",
   "name": "python",
   "nbconvert_exporter": "python",
   "pygments_lexer": "ipython3",
   "version": "3.11.5"
  }
 },
 "nbformat": 4,
 "nbformat_minor": 5
}
