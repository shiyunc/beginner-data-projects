{
 "cells": [
  {
   "cell_type": "markdown",
   "id": "1e85856b",
   "metadata": {},
   "source": [
    "## Sqlite + Python - cheat sheet"
   ]
  },
  {
   "cell_type": "markdown",
   "id": "4f0e972b",
   "metadata": {},
   "source": [
    "### Import sqlite "
   ]
  },
  {
   "cell_type": "code",
   "execution_count": null,
   "id": "cb5ee167",
   "metadata": {},
   "outputs": [],
   "source": [
    "# create database\n",
    "import sqlite3\n",
    "\n",
    "# or \n",
    "import sqlite3 as db"
   ]
  },
  {
   "cell_type": "markdown",
   "id": "5ccfc2ac",
   "metadata": {},
   "source": [
    "### Create dataframe in sqlite"
   ]
  },
  {
   "cell_type": "code",
   "execution_count": null,
   "id": "40041583",
   "metadata": {},
   "outputs": [],
   "source": [
    "# create a dataframe\n",
    "\n",
    "df = pd.DataFrame({'name': ['Anna', 'Bill', 'Carl', 'Dig'],\n",
    "                   'age': [5, 10, 15, 20],\n",
    "                   'weight': [30.3, 49.2, 59.4, 70.8]})\n",
    "\n",
    "# read dataframe\n",
    "df"
   ]
  },
  {
   "cell_type": "markdown",
   "id": "8b41433c",
   "metadata": {},
   "source": [
    "### Load csv in sqlite"
   ]
  },
  {
   "cell_type": "code",
   "execution_count": null,
   "id": "6161c659",
   "metadata": {},
   "outputs": [],
   "source": [
    "# load data file\n",
    "df = pd.read_csv(\"file.csv\")\n",
    "\n",
    "# read data\n",
    "df"
   ]
  },
  {
   "cell_type": "markdown",
   "id": "239d0775",
   "metadata": {},
   "source": [
    "### Connect to a database"
   ]
  },
  {
   "cell_type": "code",
   "execution_count": null,
   "id": "fde39077",
   "metadata": {},
   "outputs": [],
   "source": [
    "# connect to a database\n",
    "# no database exist need to create new db file\n",
    "\n",
    "db = sqlite3.connect('database.db')\n",
    "\n",
    "# or\n",
    "connection = db.connect('database.db')"
   ]
  },
  {
   "cell_type": "code",
   "execution_count": null,
   "id": "e8bfc0e6",
   "metadata": {},
   "outputs": [],
   "source": [
    "# apply _sql from pandas to add data to database\n",
    "# df.to_sql('table_name', connection_name) to create a table in database to run queries\n",
    "\n",
    "df.to_sql('table', connection)\n",
    "\n",
    "# or \n",
    "# load data to sqlite: fail, replace, append\n",
    "df.to_sql('table', connection, if_exists='replace')"
   ]
  },
  {
   "cell_type": "code",
   "execution_count": null,
   "id": "04bd5849",
   "metadata": {},
   "outputs": [],
   "source": [
    "# load sql to ipython\n",
    "\n",
    "%load_ext sql"
   ]
  },
  {
   "cell_type": "code",
   "execution_count": null,
   "id": "25aa6f4f",
   "metadata": {},
   "outputs": [],
   "source": [
    "# refer to the database\n",
    "\n",
    "%sql sqlite:///database.db"
   ]
  },
  {
   "cell_type": "markdown",
   "id": "90fc9765",
   "metadata": {},
   "source": [
    "### Create a table with columns"
   ]
  },
  {
   "cell_type": "code",
   "execution_count": null,
   "id": "a871b7ca",
   "metadata": {},
   "outputs": [],
   "source": [
    "# cursor execute statement to interact with the database\n",
    "cursor = conn.cursor()\n",
    "\n",
    "# execute will create a table\n",
    "cursor.execute(\"CREATE TABLE students(id INTEGER PRIMARY KEY, name TEXT, course TEXT, score REAL)\")\n",
    "conn.commit()"
   ]
  },
  {
   "cell_type": "code",
   "execution_count": null,
   "id": "d44fd2c3",
   "metadata": {},
   "outputs": [],
   "source": [
    "def create_table():\n",
    "  db = sqlite3.connect('database.db')\n",
    "  cursor = db.cursor()\n",
    "  cursor.execute(\"\"\"\n",
    "    CREATE TABLE IF NOT EXISTS students (\n",
    "      id integer PRIMARY KEY,\n",
    "      name text NOT NULL,\n",
    "      quantity integer,\n",
    "      score real\n",
    "    )\n",
    "  \"\"\")\n",
    "  db.commit()\n",
    "  db.close()"
   ]
  },
  {
   "cell_type": "markdown",
   "id": "8630d811",
   "metadata": {},
   "source": [
    "### Insert data"
   ]
  },
  {
   "cell_type": "code",
   "execution_count": null,
   "id": "3bf58890",
   "metadata": {},
   "outputs": [],
   "source": [
    "# apply execute to insert data into table\n",
    "\n",
    "data = ('aaz', 'Computer Engineering', 80)\n",
    "cursor.execute(\"INSERT INTO students (name, course, score) VALUES (?, ?, ?)\", data)\n",
    "\n",
    "# or\n",
    "cursor.execute(\"INSERT INTO students (name, course, score) VALUES (?, ?, ?)\", ('daz', 'Mechanical Engineering', 70))\n",
    "conn.commit()"
   ]
  },
  {
   "cell_type": "code",
   "execution_count": null,
   "id": "ba43e408",
   "metadata": {},
   "outputs": [],
   "source": [
    "def insert_data(values):\n",
    "  db = sqlite3.connect('database.db')\n",
    "  cursor = db.cursor()\n",
    "  cursor.execute(\"INSERT INTO students VALUES (?, ?, ?, ?)\", values)\n",
    "  db.commit()\n",
    "  db.close()\n",
    "\n",
    "# data\n",
    "insert_data( ('aaz', 'Computer Engineering', 80))"
   ]
  },
  {
   "cell_type": "markdown",
   "id": "6fc73294",
   "metadata": {},
   "source": [
    "### Commit changes to database"
   ]
  },
  {
   "cell_type": "code",
   "execution_count": null,
   "id": "882f59ac",
   "metadata": {},
   "outputs": [],
   "source": [
    "db.commit()"
   ]
  },
  {
   "cell_type": "markdown",
   "id": "d20cb9ab",
   "metadata": {},
   "source": [
    "### Close connection"
   ]
  },
  {
   "cell_type": "code",
   "execution_count": null,
   "id": "c7961fd5",
   "metadata": {},
   "outputs": [],
   "source": [
    "db.close()"
   ]
  },
  {
   "cell_type": "markdown",
   "id": "fce3cd19",
   "metadata": {},
   "source": [
    "### Display data"
   ]
  },
  {
   "cell_type": "code",
   "execution_count": null,
   "id": "02f0feb8",
   "metadata": {},
   "outputs": [],
   "source": [
    "%%sql\n",
    "\n",
    "SELECT * FROM table;"
   ]
  },
  {
   "cell_type": "code",
   "execution_count": null,
   "id": "ef9dd92f",
   "metadata": {},
   "outputs": [],
   "source": [
    "# apply execute to query data from table\n",
    "cursor.execute(\"SELECT * FROM students\")"
   ]
  },
  {
   "cell_type": "code",
   "execution_count": null,
   "id": "8912f011",
   "metadata": {},
   "outputs": [],
   "source": [
    "# query fetchall( ) to display the results\n",
    "rows = cursor.fetchall()\n",
    "for row in rows:\n",
    "    print(row)"
   ]
  },
  {
   "cell_type": "code",
   "execution_count": null,
   "id": "8e843e8d",
   "metadata": {},
   "outputs": [],
   "source": [
    "def display_data():\n",
    "  db = sqlite3.connect('database.db')\n",
    "  cursor = db.cursor()\n",
    "  cursor.execute(\"SELECT * FROM students\")\n",
    "  rows = cursor.fetchall()\n",
    "  db.close()\n",
    "  return rows"
   ]
  },
  {
   "cell_type": "markdown",
   "id": "fc46ddff",
   "metadata": {},
   "source": [
    "### Filter data"
   ]
  },
  {
   "cell_type": "code",
   "execution_count": null,
   "id": "66f0de00",
   "metadata": {},
   "outputs": [],
   "source": [
    "def filter_data(name):\n",
    "  db = sqlite3.connect('database.db')\n",
    "  cursor = db.cursor()\n",
    "  cursor.execute(\"SELECT * FROM students WHERE name=?\", (name,))\n",
    "  row = cursor.fetchone()  \n",
    "  db.close()\n",
    "  return row"
   ]
  },
  {
   "cell_type": "markdown",
   "id": "5d41abb2",
   "metadata": {},
   "source": [
    "### Update data"
   ]
  },
  {
   "cell_type": "code",
   "execution_count": null,
   "id": "102cc6d1",
   "metadata": {},
   "outputs": [],
   "source": [
    "# apply execute to update table\n",
    "\n",
    "cursor.execute(\"UPDATE students SET score = ? WHERE id = ?\", (90, 1))\n",
    "conn.commit()"
   ]
  },
  {
   "cell_type": "code",
   "execution_count": null,
   "id": "a83ef7b8",
   "metadata": {},
   "outputs": [],
   "source": [
    "def update_data(score, name):\n",
    "  db = sqlite3.connect('database.db')\n",
    "  cursor = db.cursor()\n",
    "  cursor.execute(\"UPDATE students SET quantity =? WHERE name=?\", \n",
    "                 (score, name))\n",
    "  db.commit()\n",
    "  db.close()\n",
    "\n",
    "# data  \n",
    "update_data(100, 'astudent')"
   ]
  },
  {
   "cell_type": "markdown",
   "id": "c9e82639",
   "metadata": {},
   "source": [
    "### Delete data"
   ]
  },
  {
   "cell_type": "code",
   "execution_count": null,
   "id": "ca0a96dd",
   "metadata": {},
   "outputs": [],
   "source": [
    "# apply execute to delete table\n",
    "cursor.execute(\"DELETE FROM students WHERE id = ?\", (2,))\n",
    "conn.commit()"
   ]
  },
  {
   "cell_type": "code",
   "execution_count": null,
   "id": "a570a66b",
   "metadata": {},
   "outputs": [],
   "source": [
    "def delete_data(name):\n",
    "  db = sqlite3.connect('database.db')\n",
    "  cursor = db.cursor()\n",
    "  cursor.execute(\"DELETE FROM students WHERE name=?\", (name,))\n",
    "  db.commit() \n",
    "  db.close()\n",
    "\n",
    "# data\n",
    "delete_data('bstudent')"
   ]
  },
  {
   "cell_type": "markdown",
   "id": "36111b38",
   "metadata": {},
   "source": [
    "### Order by"
   ]
  },
  {
   "cell_type": "code",
   "execution_count": null,
   "id": "f554f7b5",
   "metadata": {},
   "outputs": [],
   "source": [
    "# apply execute to query data from table\n",
    "# extract name column arrange by alphabetical order\n",
    "cursor.execute(\"SELECT * FROM fruit ORDER BY name\")"
   ]
  },
  {
   "cell_type": "code",
   "execution_count": null,
   "id": "2436fd6f",
   "metadata": {},
   "outputs": [],
   "source": [
    "# apply execute to query data from table\n",
    "# extract name column arrange by numerical order\n",
    "cursor.execute(\"SELECT * FROM fruit ORDER BY quantity\")"
   ]
  },
  {
   "cell_type": "code",
   "execution_count": null,
   "id": "b509a652",
   "metadata": {},
   "outputs": [],
   "source": [
    "# apply execute to query data from table\n",
    "# extract quantity of fruits from big to small\n",
    "cursor.execute(\"SELECT * FROM fruit ORDER BY quantity DESC\")"
   ]
  },
  {
   "cell_type": "markdown",
   "id": "f784a6a9",
   "metadata": {},
   "source": [
    "### Group by"
   ]
  },
  {
   "cell_type": "code",
   "execution_count": null,
   "id": "d9591819",
   "metadata": {},
   "outputs": [],
   "source": [
    "# apply execute to query data from table\n",
    "# 1. GROUP BY, 2. SUM, 3. SELECT the column\n",
    "cursor.execute(\"SELECT name, SUM(quantity) FROM fruit GROUP BY name\")"
   ]
  },
  {
   "cell_type": "markdown",
   "id": "f68773f5",
   "metadata": {},
   "source": [
    "### Sum"
   ]
  },
  {
   "cell_type": "code",
   "execution_count": null,
   "id": "a1001e11",
   "metadata": {},
   "outputs": [],
   "source": [
    "# apply execute to query data from table\n",
    "# find total number of fruits\n",
    "cursor.execute(\"SELECT SUM(quantity) FROM fruit\")"
   ]
  },
  {
   "cell_type": "markdown",
   "id": "a406582c",
   "metadata": {},
   "source": [
    "### Count"
   ]
  },
  {
   "cell_type": "code",
   "execution_count": null,
   "id": "7321a476",
   "metadata": {},
   "outputs": [],
   "source": [
    "# find all rows in sqlite \n",
    "\n",
    "%%sql\n",
    "SELECT COUNT(BMI) FROM table_diabetes;"
   ]
  },
  {
   "cell_type": "code",
   "execution_count": null,
   "id": "c52cde30",
   "metadata": {},
   "outputs": [],
   "source": [
    "# find all rows\n",
    "\n",
    "SELECT COUNT(*) FROM table_name;"
   ]
  },
  {
   "cell_type": "code",
   "execution_count": null,
   "id": "a5f93281",
   "metadata": {},
   "outputs": [],
   "source": [
    "# find one column rows\n",
    "\n",
    "SELECT COUNT(column_name) FROM table_name;"
   ]
  },
  {
   "cell_type": "code",
   "execution_count": null,
   "id": "33b31648",
   "metadata": {},
   "outputs": [],
   "source": [
    "# find each column = 0s\n",
    "\n",
    "%%sql\n",
    "SELECT COUNT(column)\n",
    "FROM table\n",
    "WHERE column = 0;"
   ]
  },
  {
   "cell_type": "code",
   "execution_count": null,
   "id": "ca2daf24",
   "metadata": {},
   "outputs": [],
   "source": [
    "# find each column is null\n",
    "\n",
    "%%sql\n",
    "SELECT COUNT(column_id)\n",
    "FROM table\n",
    "WHERE column IS NULL;"
   ]
  },
  {
   "cell_type": "markdown",
   "id": "05f4d72e",
   "metadata": {},
   "source": [
    "### Count Distinct"
   ]
  },
  {
   "cell_type": "code",
   "execution_count": null,
   "id": "0db9f50f",
   "metadata": {},
   "outputs": [],
   "source": [
    "# apply execute to query data from table\n",
    "# extract count distinct\n",
    "cursor.execute(\"SELECT COUNT (DISTINCT name) FROM fruit\")"
   ]
  },
  {
   "cell_type": "code",
   "execution_count": null,
   "id": "7a714b05",
   "metadata": {},
   "outputs": [],
   "source": [
    "# apply execute to query data from table\n",
    "# extract quantity of fruits from big to small\n",
    "cursor.execute(\"SELECT COUNT (DISTINCT quantity) FROM fruit\")"
   ]
  },
  {
   "cell_type": "code",
   "execution_count": null,
   "id": "37909e4e",
   "metadata": {},
   "outputs": [],
   "source": [
    "# apply execute to query data from table\n",
    "# extract only name column\n",
    "cursor.execute(\"SELECT DISTINCT name FROM fruit\")"
   ]
  },
  {
   "cell_type": "code",
   "execution_count": null,
   "id": "eb61f872",
   "metadata": {},
   "outputs": [],
   "source": [
    "# apply execute to query data from table\n",
    "# extract only quantity column\n",
    "cursor.execute(\"SELECT DISTINCT quantity FROM fruit\")"
   ]
  },
  {
   "cell_type": "markdown",
   "id": "108b16f9",
   "metadata": {},
   "source": [
    "### Limit"
   ]
  },
  {
   "cell_type": "code",
   "execution_count": null,
   "id": "363ef69f",
   "metadata": {},
   "outputs": [],
   "source": [
    "# apply execute to query data from table\n",
    "# extract first 5 rows\n",
    "cursor.execute(\"SELECT * FROM fruit LIMIT 5\")"
   ]
  },
  {
   "cell_type": "markdown",
   "id": "83b8f99c",
   "metadata": {},
   "source": [
    "### Table format"
   ]
  },
  {
   "cell_type": "code",
   "execution_count": null,
   "id": "766d56e4",
   "metadata": {},
   "outputs": [],
   "source": [
    "%%sql\n",
    "\n",
    "SELECT *\n",
    "  FROM sqlite_master\n",
    " WHERE type='table'; "
   ]
  },
  {
   "cell_type": "markdown",
   "id": "ce1a58eb",
   "metadata": {},
   "source": [
    "### Backticks"
   ]
  },
  {
   "cell_type": "code",
   "execution_count": null,
   "id": "5583bcb8",
   "metadata": {},
   "outputs": [],
   "source": [
    "# Backticks `database`, `table`, `column names`\n",
    "\n",
    "%%sql\n",
    "ALTER TABLE table_name DROP COLUMN `column_name`;"
   ]
  }
 ],
 "metadata": {
  "kernelspec": {
   "display_name": "Python 3 (ipykernel)",
   "language": "python",
   "name": "python3"
  },
  "language_info": {
   "codemirror_mode": {
    "name": "ipython",
    "version": 3
   },
   "file_extension": ".py",
   "mimetype": "text/x-python",
   "name": "python",
   "nbconvert_exporter": "python",
   "pygments_lexer": "ipython3",
   "version": "3.11.5"
  }
 },
 "nbformat": 4,
 "nbformat_minor": 5
}
