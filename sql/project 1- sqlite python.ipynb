{
 "cells": [
  {
   "cell_type": "markdown",
   "id": "c9730d66",
   "metadata": {},
   "source": [
    "## Sqlite + Python - draft cheatsheet "
   ]
  },
  {
   "cell_type": "markdown",
   "id": "cf17c935",
   "metadata": {},
   "source": [
    "### Import sqlite "
   ]
  },
  {
   "cell_type": "code",
   "execution_count": null,
   "id": "49ab1b31",
   "metadata": {},
   "outputs": [],
   "source": [
    "# create database\n",
    "import sqlite3"
   ]
  },
  {
   "cell_type": "markdown",
   "id": "ceb58720",
   "metadata": {},
   "source": [
    "### Connect to a database"
   ]
  },
  {
   "cell_type": "code",
   "execution_count": null,
   "id": "33fb6d1e",
   "metadata": {},
   "outputs": [],
   "source": [
    "# connect to a database\n",
    "# no database exist need to create new db file\n",
    "\n",
    "db = sqlite3.connect('database.db')"
   ]
  },
  {
   "cell_type": "markdown",
   "id": "c8f49ae0",
   "metadata": {},
   "source": [
    "### Create a table with columns"
   ]
  },
  {
   "cell_type": "code",
   "execution_count": null,
   "id": "c4e30222",
   "metadata": {},
   "outputs": [],
   "source": [
    "import sqlite3\n",
    "\n",
    "def create_table():\n",
    "  db = sqlite3.connect('database.db')\n",
    "  cursor = db.cursor()\n",
    "  cursor.execute(\"\"\"\n",
    "    CREATE TABLE IF NOT EXISTS students (\n",
    "      id integer PRIMARY KEY,\n",
    "      name text NOT NULL,\n",
    "      quantity integer,\n",
    "      score real\n",
    "    )\n",
    "  \"\"\")\n",
    "  db.commit()\n",
    "  db.close()"
   ]
  },
  {
   "cell_type": "markdown",
   "id": "0b7ead5a",
   "metadata": {},
   "source": [
    "### Insert data"
   ]
  },
  {
   "cell_type": "code",
   "execution_count": null,
   "id": "a2e18a4f",
   "metadata": {},
   "outputs": [],
   "source": [
    "# apply execute to insert data into table\n",
    "\n",
    "data = ('aaz', 'Computer Engineering', 80)\n",
    "cursor.execute(\"INSERT INTO students (name, course, score) VALUES (?, ?, ?)\", data)"
   ]
  },
  {
   "cell_type": "code",
   "execution_count": null,
   "id": "685b3b19",
   "metadata": {},
   "outputs": [],
   "source": [
    "def insert_data(values):\n",
    "  db = sqlite3.connect('database.db')\n",
    "  cursor = db.cursor()\n",
    "  cursor.execute(\"INSERT INTO students VALUES (?, ?, ?, ?)\", values)\n",
    "  db.commit()\n",
    "  db.close()\n",
    "\n",
    "# data\n",
    "insert_data( ('aaz', 'Computer Engineering', 80))"
   ]
  },
  {
   "cell_type": "markdown",
   "id": "5ad7b76c",
   "metadata": {},
   "source": [
    "### Commit changes to database"
   ]
  },
  {
   "cell_type": "code",
   "execution_count": null,
   "id": "f75be2d3",
   "metadata": {},
   "outputs": [],
   "source": [
    "db.commit()"
   ]
  },
  {
   "cell_type": "markdown",
   "id": "49d45b13",
   "metadata": {},
   "source": [
    "### Close connection"
   ]
  },
  {
   "cell_type": "code",
   "execution_count": null,
   "id": "a611cae2",
   "metadata": {},
   "outputs": [],
   "source": [
    "db.close()"
   ]
  },
  {
   "cell_type": "markdown",
   "id": "448d6c50",
   "metadata": {},
   "source": [
    "### Display data"
   ]
  },
  {
   "cell_type": "code",
   "execution_count": null,
   "id": "239fc3fb",
   "metadata": {},
   "outputs": [],
   "source": [
    "def display_data():\n",
    "  db = sqlite3.connect('database.db')\n",
    "  cursor = db.cursor()\n",
    "  cursor.execute(\"SELECT * FROM students\")\n",
    "  rows = cursor.fetchall()\n",
    "  db.close()\n",
    "  return rows"
   ]
  },
  {
   "cell_type": "markdown",
   "id": "a0c571f5",
   "metadata": {},
   "source": [
    "### Filter data"
   ]
  },
  {
   "cell_type": "code",
   "execution_count": null,
   "id": "3c08837d",
   "metadata": {},
   "outputs": [],
   "source": [
    "def filter_data(name):\n",
    "  db = sqlite3.connect('database.db')\n",
    "  cursor = db.cursor()\n",
    "  cursor.execute(\"SELECT * FROM students WHERE name=?\", (name,))\n",
    "  row = cursor.fetchone()  \n",
    "  db.close()\n",
    "  return row"
   ]
  },
  {
   "cell_type": "markdown",
   "id": "dad650e5",
   "metadata": {},
   "source": [
    "### Update data"
   ]
  },
  {
   "cell_type": "code",
   "execution_count": null,
   "id": "828b8ba3",
   "metadata": {},
   "outputs": [],
   "source": [
    "def update_data(score, name):\n",
    "  db = sqlite3.connect('database.db')\n",
    "  cursor = db.cursor()\n",
    "  cursor.execute(\"UPDATE students SET quantity =? WHERE name=?\", \n",
    "                 (score, name))\n",
    "  db.commit()\n",
    "  db.close()\n",
    "\n",
    "# data  \n",
    "update_data(100, 'astudent')"
   ]
  },
  {
   "cell_type": "markdown",
   "id": "1e938632",
   "metadata": {},
   "source": [
    "### Delete data"
   ]
  },
  {
   "cell_type": "code",
   "execution_count": null,
   "id": "4dbfef20",
   "metadata": {},
   "outputs": [],
   "source": [
    "def delete_data(name):\n",
    "  db = sqlite3.connect('database.db')\n",
    "  cursor = db.cursor()\n",
    "  cursor.execute(\"DELETE FROM students WHERE name=?\", (name,))\n",
    "  db.commit() \n",
    "  db.close()\n",
    "\n",
    "# data\n",
    "delete_data('bstudent')"
   ]
  }
 ],
 "metadata": {
  "kernelspec": {
   "display_name": "Python 3 (ipykernel)",
   "language": "python",
   "name": "python3"
  },
  "language_info": {
   "codemirror_mode": {
    "name": "ipython",
    "version": 3
   },
   "file_extension": ".py",
   "mimetype": "text/x-python",
   "name": "python",
   "nbconvert_exporter": "python",
   "pygments_lexer": "ipython3",
   "version": "3.11.5"
  }
 },
 "nbformat": 4,
 "nbformat_minor": 5
}
