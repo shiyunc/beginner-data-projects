{
 "cells": [
  {
   "cell_type": "markdown",
   "id": "1e85856b",
   "metadata": {},
   "source": [
    "## Sqlite + Python - draft cheatsheet "
   ]
  },
  {
   "cell_type": "markdown",
   "id": "4f0e972b",
   "metadata": {},
   "source": [
    "### Import sqlite "
   ]
  },
  {
   "cell_type": "code",
   "execution_count": null,
   "id": "cb5ee167",
   "metadata": {},
   "outputs": [],
   "source": [
    "# create database\n",
    "import sqlite3"
   ]
  },
  {
   "cell_type": "markdown",
   "id": "239d0775",
   "metadata": {},
   "source": [
    "### Connect to a database"
   ]
  },
  {
   "cell_type": "code",
   "execution_count": null,
   "id": "fde39077",
   "metadata": {},
   "outputs": [],
   "source": [
    "# connect to a database\n",
    "# no database exist need to create new db file\n",
    "\n",
    "db = sqlite3.connect('database.db')"
   ]
  },
  {
   "cell_type": "markdown",
   "id": "90fc9765",
   "metadata": {},
   "source": [
    "### Create a table with columns"
   ]
  },
  {
   "cell_type": "code",
   "execution_count": null,
   "id": "d44fd2c3",
   "metadata": {},
   "outputs": [],
   "source": [
    "def create_table():\n",
    "  db = sqlite3.connect('database.db')\n",
    "  cursor = db.cursor()\n",
    "  cursor.execute(\"\"\"\n",
    "    CREATE TABLE IF NOT EXISTS students (\n",
    "      id integer PRIMARY KEY,\n",
    "      name text NOT NULL,\n",
    "      quantity integer,\n",
    "      score real\n",
    "    )\n",
    "  \"\"\")\n",
    "  db.commit()\n",
    "  db.close()"
   ]
  },
  {
   "cell_type": "markdown",
   "id": "8630d811",
   "metadata": {},
   "source": [
    "### Insert data"
   ]
  },
  {
   "cell_type": "code",
   "execution_count": null,
   "id": "3bf58890",
   "metadata": {},
   "outputs": [],
   "source": [
    "# apply execute to insert data into table\n",
    "\n",
    "data = ('aaz', 'Computer Engineering', 80)\n",
    "cursor.execute(\"INSERT INTO students (name, course, score) VALUES (?, ?, ?)\", data)"
   ]
  },
  {
   "cell_type": "code",
   "execution_count": null,
   "id": "ba43e408",
   "metadata": {},
   "outputs": [],
   "source": [
    "def insert_data(values):\n",
    "  db = sqlite3.connect('database.db')\n",
    "  cursor = db.cursor()\n",
    "  cursor.execute(\"INSERT INTO students VALUES (?, ?, ?, ?)\", values)\n",
    "  db.commit()\n",
    "  db.close()\n",
    "\n",
    "# data\n",
    "insert_data( ('aaz', 'Computer Engineering', 80))"
   ]
  },
  {
   "cell_type": "markdown",
   "id": "6fc73294",
   "metadata": {},
   "source": [
    "### Commit changes to database"
   ]
  },
  {
   "cell_type": "code",
   "execution_count": null,
   "id": "882f59ac",
   "metadata": {},
   "outputs": [],
   "source": [
    "db.commit()"
   ]
  },
  {
   "cell_type": "markdown",
   "id": "d20cb9ab",
   "metadata": {},
   "source": [
    "### Close connection"
   ]
  },
  {
   "cell_type": "code",
   "execution_count": null,
   "id": "c7961fd5",
   "metadata": {},
   "outputs": [],
   "source": [
    "db.close()"
   ]
  },
  {
   "cell_type": "markdown",
   "id": "fce3cd19",
   "metadata": {},
   "source": [
    "### Display data"
   ]
  },
  {
   "cell_type": "code",
   "execution_count": null,
   "id": "8e843e8d",
   "metadata": {},
   "outputs": [],
   "source": [
    "def display_data():\n",
    "  db = sqlite3.connect('database.db')\n",
    "  cursor = db.cursor()\n",
    "  cursor.execute(\"SELECT * FROM students\")\n",
    "  rows = cursor.fetchall()\n",
    "  db.close()\n",
    "  return rows"
   ]
  },
  {
   "cell_type": "markdown",
   "id": "fc46ddff",
   "metadata": {},
   "source": [
    "### Filter data"
   ]
  },
  {
   "cell_type": "code",
   "execution_count": null,
   "id": "66f0de00",
   "metadata": {},
   "outputs": [],
   "source": [
    "def filter_data(name):\n",
    "  db = sqlite3.connect('database.db')\n",
    "  cursor = db.cursor()\n",
    "  cursor.execute(\"SELECT * FROM students WHERE name=?\", (name,))\n",
    "  row = cursor.fetchone()  \n",
    "  db.close()\n",
    "  return row"
   ]
  },
  {
   "cell_type": "markdown",
   "id": "5d41abb2",
   "metadata": {},
   "source": [
    "### Update data"
   ]
  },
  {
   "cell_type": "code",
   "execution_count": null,
   "id": "a83ef7b8",
   "metadata": {},
   "outputs": [],
   "source": [
    "def update_data(score, name):\n",
    "  db = sqlite3.connect('database.db')\n",
    "  cursor = db.cursor()\n",
    "  cursor.execute(\"UPDATE students SET quantity =? WHERE name=?\", \n",
    "                 (score, name))\n",
    "  db.commit()\n",
    "  db.close()\n",
    "\n",
    "# data  \n",
    "update_data(100, 'astudent')"
   ]
  },
  {
   "cell_type": "markdown",
   "id": "c9e82639",
   "metadata": {},
   "source": [
    "### Delete data"
   ]
  },
  {
   "cell_type": "code",
   "execution_count": null,
   "id": "a570a66b",
   "metadata": {},
   "outputs": [],
   "source": [
    "def delete_data(name):\n",
    "  db = sqlite3.connect('database.db')\n",
    "  cursor = db.cursor()\n",
    "  cursor.execute(\"DELETE FROM students WHERE name=?\", (name,))\n",
    "  db.commit() \n",
    "  db.close()\n",
    "\n",
    "# data\n",
    "delete_data('bstudent')"
   ]
  },
  {
   "cell_type": "markdown",
   "id": "83b8f99c",
   "metadata": {},
   "source": [
    "### Table format"
   ]
  },
  {
   "cell_type": "code",
   "execution_count": null,
   "id": "766d56e4",
   "metadata": {},
   "outputs": [],
   "source": [
    "%%sql\n",
    "\n",
    "SELECT *\n",
    "  FROM sqlite_master\n",
    " WHERE type='table'; "
   ]
  }
 ],
 "metadata": {
  "kernelspec": {
   "display_name": "Python 3 (ipykernel)",
   "language": "python",
   "name": "python3"
  },
  "language_info": {
   "codemirror_mode": {
    "name": "ipython",
    "version": 3
   },
   "file_extension": ".py",
   "mimetype": "text/x-python",
   "name": "python",
   "nbconvert_exporter": "python",
   "pygments_lexer": "ipython3",
   "version": "3.11.5"
  }
 },
 "nbformat": 4,
 "nbformat_minor": 5
}
