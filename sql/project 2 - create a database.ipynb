{
 "cells": [
  {
   "cell_type": "markdown",
   "id": "e78031a0",
   "metadata": {},
   "source": [
    "## Sqlite + Python: create a database"
   ]
  },
  {
   "cell_type": "code",
   "execution_count": 31,
   "id": "4143fb54",
   "metadata": {},
   "outputs": [],
   "source": [
    "# import libraries\n",
    "import pandas as pd\n",
    "\n",
    "# to create database\n",
    "import sqlite3 as db"
   ]
  },
  {
   "cell_type": "code",
   "execution_count": 32,
   "id": "50627773",
   "metadata": {},
   "outputs": [],
   "source": [
    "# connect to a database\n",
    "# no database exist need to create new db file\n",
    "conn = db.connect('sqlp2b.db')"
   ]
  },
  {
   "cell_type": "code",
   "execution_count": 33,
   "id": "923423b5",
   "metadata": {},
   "outputs": [],
   "source": [
    "# cursor execute statement to interact with the database\n",
    "cursor = conn.cursor()\n",
    "\n",
    "# execute will create a table\n",
    "cursor.execute(\"CREATE TABLE fruit(id INTEGER PRIMARY KEY, name TEXT, quantity INTEGER)\")\n",
    "conn.commit()"
   ]
  },
  {
   "cell_type": "code",
   "execution_count": 34,
   "id": "d0dac28c",
   "metadata": {},
   "outputs": [],
   "source": [
    "# apply execute to insert data into table\n",
    "cursor.execute(\"INSERT INTO fruit (id, name, quantity) VALUES (?, ?, ?)\", (1, 'Apples', 50))\n",
    "cursor.execute(\"INSERT INTO fruit (id, name, quantity) VALUES (?, ?, ?)\", (2, 'Blueberries', 100))\n",
    "cursor.execute(\"INSERT INTO fruit (id, name, quantity) VALUES (?, ?, ?)\", (3, 'Cranberries', 80))\n",
    "cursor.execute(\"INSERT INTO fruit (id, name, quantity) VALUES (?, ?, ?)\", (4, 'Durians', 80))\n",
    "cursor.execute(\"INSERT INTO fruit (id, name, quantity) VALUES (?, ?, ?)\", (5, 'Lime', 30))\n",
    "cursor.execute(\"INSERT INTO fruit (id, name, quantity) VALUES (?, ?, ?)\", (6, 'Oranges', 5))\n",
    "cursor.execute(\"INSERT INTO fruit (id, name, quantity) VALUES (?, ?, ?)\", (7, 'Mangos', 10))\n",
    "cursor.execute(\"INSERT INTO fruit (id, name, quantity) VALUES (?, ?, ?)\", (8, 'Grapes', 70))\n",
    "cursor.execute(\"INSERT INTO fruit (id, name, quantity) VALUES (?, ?, ?)\", (9, 'Peaches', 80))\n",
    "cursor.execute(\"INSERT INTO fruit (id, name, quantity) VALUES (?, ?, ?)\", (10, 'Pears', 20))\n",
    "\n",
    "cursor.execute(\"INSERT INTO fruit (id, name, quantity) VALUES (?, ?, ?)\", (11, 'Avocados', 50))\n",
    "cursor.execute(\"INSERT INTO fruit (id, name, quantity) VALUES (?, ?, ?)\", (12, 'Berries', 100))\n",
    "cursor.execute(\"INSERT INTO fruit (id, name, quantity) VALUES (?, ?, ?)\", (13, 'Lemons', 80))\n",
    "cursor.execute(\"INSERT INTO fruit (id, name, quantity) VALUES (?, ?, ?)\", (14, 'Dragonfruits', 80))\n",
    "cursor.execute(\"INSERT INTO fruit (id, name, quantity) VALUES (?, ?, ?)\", (15, 'Watermelon', 1))\n",
    "cursor.execute(\"INSERT INTO fruit (id, name, quantity) VALUES (?, ?, ?)\", (16, 'Mandarian oranges', 5))\n",
    "cursor.execute(\"INSERT INTO fruit (id, name, quantity) VALUES (?, ?, ?)\", (17, 'Raspberries', 10))\n",
    "cursor.execute(\"INSERT INTO fruit (id, name, quantity) VALUES (?, ?, ?)\", (18, 'Guava', 70))\n",
    "cursor.execute(\"INSERT INTO fruit (id, name, quantity) VALUES (?, ?, ?)\", (19, 'Melons', 80))\n",
    "cursor.execute(\"INSERT INTO fruit (id, name, quantity) VALUES (?, ?, ?)\", (20, 'Bananas', 20))\n",
    "\n",
    "conn.commit()"
   ]
  },
  {
   "cell_type": "code",
   "execution_count": 35,
   "id": "425ec45d",
   "metadata": {},
   "outputs": [
    {
     "name": "stdout",
     "output_type": "stream",
     "text": [
      "(1, 'Apples', 50)\n",
      "(2, 'Blueberries', 100)\n",
      "(3, 'Cranberries', 80)\n",
      "(4, 'Durians', 80)\n",
      "(5, 'Lime', 30)\n",
      "(6, 'Oranges', 5)\n",
      "(7, 'Mangos', 10)\n",
      "(8, 'Grapes', 70)\n",
      "(9, 'Peaches', 80)\n",
      "(10, 'Pears', 20)\n",
      "(11, 'Avocados', 50)\n",
      "(12, 'Berries', 100)\n",
      "(13, 'Lemons', 80)\n",
      "(14, 'Dragonfruits', 80)\n",
      "(15, 'Watermelon', 1)\n",
      "(16, 'Mandarian oranges', 5)\n",
      "(17, 'Raspberries', 10)\n",
      "(18, 'Guava', 70)\n",
      "(19, 'Melons', 80)\n",
      "(20, 'Bananas', 20)\n"
     ]
    }
   ],
   "source": [
    "# apply execute to query data from table\n",
    "# Select all fruits\n",
    "cursor.execute(\"SELECT * FROM fruit\")\n",
    "\n",
    "# display results\n",
    "rows = cursor.fetchall()\n",
    "for row in rows:\n",
    "    print(row)"
   ]
  },
  {
   "cell_type": "code",
   "execution_count": 43,
   "id": "01de6f7a",
   "metadata": {},
   "outputs": [
    {
     "name": "stdout",
     "output_type": "stream",
     "text": [
      "(1, 'Apples', 50)\n",
      "(11, 'Avocados', 50)\n",
      "(20, 'Bananas', 20)\n",
      "(12, 'Berries', 100)\n",
      "(2, 'Blueberries', 100)\n",
      "(3, 'Cranberries', 80)\n",
      "(14, 'Dragonfruits', 80)\n",
      "(4, 'Durians', 80)\n",
      "(8, 'Grapes', 70)\n",
      "(18, 'Guava', 70)\n",
      "(13, 'Lemons', 80)\n",
      "(5, 'Lime', 30)\n",
      "(16, 'Mandarian oranges', 5)\n",
      "(7, 'Mangos', 10)\n",
      "(19, 'Melons', 80)\n",
      "(6, 'Oranges', 5)\n",
      "(9, 'Peaches', 80)\n",
      "(10, 'Pears', 20)\n",
      "(17, 'Raspberries', 10)\n",
      "(15, 'Watermelon', 1)\n"
     ]
    }
   ],
   "source": [
    "# apply execute to query data from table\n",
    "# extract name column arrange by alphabetical order\n",
    "cursor.execute(\"SELECT * FROM fruit ORDER BY name\")\n",
    "\n",
    "# display results\n",
    "rows = cursor.fetchall()\n",
    "for row in rows:\n",
    "    print(row)"
   ]
  },
  {
   "cell_type": "code",
   "execution_count": 44,
   "id": "4cd4aac1",
   "metadata": {},
   "outputs": [
    {
     "name": "stdout",
     "output_type": "stream",
     "text": [
      "(15, 'Watermelon', 1)\n",
      "(6, 'Oranges', 5)\n",
      "(16, 'Mandarian oranges', 5)\n",
      "(7, 'Mangos', 10)\n",
      "(17, 'Raspberries', 10)\n",
      "(10, 'Pears', 20)\n",
      "(20, 'Bananas', 20)\n",
      "(5, 'Lime', 30)\n",
      "(1, 'Apples', 50)\n",
      "(11, 'Avocados', 50)\n",
      "(8, 'Grapes', 70)\n",
      "(18, 'Guava', 70)\n",
      "(3, 'Cranberries', 80)\n",
      "(4, 'Durians', 80)\n",
      "(9, 'Peaches', 80)\n",
      "(13, 'Lemons', 80)\n",
      "(14, 'Dragonfruits', 80)\n",
      "(19, 'Melons', 80)\n",
      "(2, 'Blueberries', 100)\n",
      "(12, 'Berries', 100)\n"
     ]
    }
   ],
   "source": [
    "# apply execute to query data from table\n",
    "# extract name column arrange by numerical order\n",
    "cursor.execute(\"SELECT * FROM fruit ORDER BY quantity\")\n",
    "\n",
    "# display results\n",
    "rows = cursor.fetchall()\n",
    "for row in rows:\n",
    "    print(row)"
   ]
  },
  {
   "cell_type": "code",
   "execution_count": 46,
   "id": "11a82144",
   "metadata": {},
   "outputs": [
    {
     "name": "stdout",
     "output_type": "stream",
     "text": [
      "(1021,)\n"
     ]
    }
   ],
   "source": [
    "# apply execute to query data from table\n",
    "# find total number of fruits\n",
    "cursor.execute(\"SELECT SUM(quantity) FROM fruit\")\n",
    "\n",
    "# display results\n",
    "rows = cursor.fetchall()\n",
    "for row in rows:\n",
    "    print(row)"
   ]
  },
  {
   "cell_type": "code",
   "execution_count": 47,
   "id": "80d4f3e8",
   "metadata": {},
   "outputs": [
    {
     "name": "stdout",
     "output_type": "stream",
     "text": [
      "(2, 'Blueberries', 100)\n",
      "(12, 'Berries', 100)\n",
      "(3, 'Cranberries', 80)\n",
      "(4, 'Durians', 80)\n",
      "(9, 'Peaches', 80)\n",
      "(13, 'Lemons', 80)\n",
      "(14, 'Dragonfruits', 80)\n",
      "(19, 'Melons', 80)\n",
      "(8, 'Grapes', 70)\n",
      "(18, 'Guava', 70)\n",
      "(1, 'Apples', 50)\n",
      "(11, 'Avocados', 50)\n",
      "(5, 'Lime', 30)\n",
      "(10, 'Pears', 20)\n",
      "(20, 'Bananas', 20)\n",
      "(7, 'Mangos', 10)\n",
      "(17, 'Raspberries', 10)\n",
      "(6, 'Oranges', 5)\n",
      "(16, 'Mandarian oranges', 5)\n",
      "(15, 'Watermelon', 1)\n"
     ]
    }
   ],
   "source": [
    "# apply execute to query data from table\n",
    "# extract quantity of fruits from big to small\n",
    "cursor.execute(\"SELECT * FROM fruit ORDER BY quantity DESC\")\n",
    "\n",
    "# display results\n",
    "rows = cursor.fetchall()\n",
    "for row in rows:\n",
    "    print(row)"
   ]
  },
  {
   "cell_type": "code",
   "execution_count": 49,
   "id": "d473932c",
   "metadata": {},
   "outputs": [
    {
     "name": "stdout",
     "output_type": "stream",
     "text": [
      "(20,)\n"
     ]
    }
   ],
   "source": [
    "# apply execute to query data from table\n",
    "# extract count distinct\n",
    "cursor.execute(\"SELECT COUNT (DISTINCT name) FROM fruit\")\n",
    "\n",
    "# display results\n",
    "rows = cursor.fetchall()\n",
    "for row in rows:\n",
    "    print(row)"
   ]
  },
  {
   "cell_type": "code",
   "execution_count": 51,
   "id": "b6e9763a",
   "metadata": {},
   "outputs": [
    {
     "name": "stdout",
     "output_type": "stream",
     "text": [
      "(9,)\n"
     ]
    }
   ],
   "source": [
    "# apply execute to query data from table\n",
    "# extract quantity of fruits from big to small\n",
    "cursor.execute(\"SELECT COUNT (DISTINCT quantity) FROM fruit\")\n",
    "\n",
    "# display results\n",
    "rows = cursor.fetchall()\n",
    "for row in rows:\n",
    "    print(row)"
   ]
  },
  {
   "cell_type": "code",
   "execution_count": 52,
   "id": "b70502ed",
   "metadata": {},
   "outputs": [
    {
     "name": "stdout",
     "output_type": "stream",
     "text": [
      "('Apples',)\n",
      "('Blueberries',)\n",
      "('Cranberries',)\n",
      "('Durians',)\n",
      "('Lime',)\n",
      "('Oranges',)\n",
      "('Mangos',)\n",
      "('Grapes',)\n",
      "('Peaches',)\n",
      "('Pears',)\n",
      "('Avocados',)\n",
      "('Berries',)\n",
      "('Lemons',)\n",
      "('Dragonfruits',)\n",
      "('Watermelon',)\n",
      "('Mandarian oranges',)\n",
      "('Raspberries',)\n",
      "('Guava',)\n",
      "('Melons',)\n",
      "('Bananas',)\n"
     ]
    }
   ],
   "source": [
    "# apply execute to query data from table\n",
    "# extract only name column\n",
    "cursor.execute(\"SELECT DISTINCT name FROM fruit\")\n",
    "\n",
    "# display results\n",
    "rows = cursor.fetchall()\n",
    "for row in rows:\n",
    "    print(row)"
   ]
  },
  {
   "cell_type": "code",
   "execution_count": 53,
   "id": "a47e7a8e",
   "metadata": {},
   "outputs": [
    {
     "name": "stdout",
     "output_type": "stream",
     "text": [
      "(50,)\n",
      "(100,)\n",
      "(80,)\n",
      "(30,)\n",
      "(5,)\n",
      "(10,)\n",
      "(70,)\n",
      "(20,)\n",
      "(1,)\n"
     ]
    }
   ],
   "source": [
    "# apply execute to query data from table\n",
    "# extract only quantity column\n",
    "cursor.execute(\"SELECT DISTINCT quantity FROM fruit\")\n",
    "\n",
    "# display results\n",
    "rows = cursor.fetchall()\n",
    "for row in rows:\n",
    "    print(row)"
   ]
  },
  {
   "cell_type": "code",
   "execution_count": 54,
   "id": "05f4c7af",
   "metadata": {},
   "outputs": [
    {
     "name": "stdout",
     "output_type": "stream",
     "text": [
      "(1, 'Apples', 50)\n",
      "(2, 'Blueberries', 100)\n",
      "(3, 'Cranberries', 80)\n",
      "(4, 'Durians', 80)\n",
      "(5, 'Lime', 30)\n"
     ]
    }
   ],
   "source": [
    "# apply execute to query data from table\n",
    "# extract first 5 rows\n",
    "cursor.execute(\"SELECT * FROM fruit LIMIT 5\")\n",
    "\n",
    "# display results\n",
    "rows = cursor.fetchall()\n",
    "for row in rows:\n",
    "    print(row)"
   ]
  },
  {
   "cell_type": "code",
   "execution_count": 57,
   "id": "d109ae80",
   "metadata": {},
   "outputs": [
    {
     "name": "stdout",
     "output_type": "stream",
     "text": [
      "('Apples', 50)\n",
      "('Avocados', 50)\n",
      "('Bananas', 20)\n",
      "('Berries', 100)\n",
      "('Blueberries', 100)\n",
      "('Cranberries', 80)\n",
      "('Dragonfruits', 80)\n",
      "('Durians', 80)\n",
      "('Grapes', 70)\n",
      "('Guava', 70)\n",
      "('Lemons', 80)\n",
      "('Lime', 30)\n",
      "('Mandarian oranges', 5)\n",
      "('Mangos', 10)\n",
      "('Melons', 80)\n",
      "('Oranges', 5)\n",
      "('Peaches', 80)\n",
      "('Pears', 20)\n",
      "('Raspberries', 10)\n",
      "('Watermelon', 1)\n"
     ]
    }
   ],
   "source": [
    "# apply execute to query data from table\n",
    "# 1. GROUP BY, 2. SUM, 3. SELECT the column\n",
    "cursor.execute(\"SELECT name, SUM(quantity) FROM fruit GROUP BY name\")\n",
    "\n",
    "# display results\n",
    "rows = cursor.fetchall()\n",
    "for row in rows:\n",
    "    print(row)"
   ]
  }
 ],
 "metadata": {
  "kernelspec": {
   "display_name": "Python 3 (ipykernel)",
   "language": "python",
   "name": "python3"
  },
  "language_info": {
   "codemirror_mode": {
    "name": "ipython",
    "version": 3
   },
   "file_extension": ".py",
   "mimetype": "text/x-python",
   "name": "python",
   "nbconvert_exporter": "python",
   "pygments_lexer": "ipython3",
   "version": "3.11.5"
  }
 },
 "nbformat": 4,
 "nbformat_minor": 5
}
