{
 "cells": [
  {
   "cell_type": "markdown",
   "id": "c9857784",
   "metadata": {},
   "source": [
    "## Sqlite + Python: data cleaning functions using jupyter notebook"
   ]
  },
  {
   "cell_type": "markdown",
   "id": "b471e6d2",
   "metadata": {},
   "source": [
    "### Load and read data"
   ]
  },
  {
   "cell_type": "code",
   "execution_count": 1,
   "id": "590ca76f",
   "metadata": {},
   "outputs": [],
   "source": [
    "# import libraries\n",
    "import pandas as pd\n",
    "\n",
    "# to create database\n",
    "import sqlite3 as db"
   ]
  },
  {
   "cell_type": "code",
   "execution_count": 2,
   "id": "3284dcf8",
   "metadata": {},
   "outputs": [
    {
     "data": {
      "text/html": [
       "<div>\n",
       "<style scoped>\n",
       "    .dataframe tbody tr th:only-of-type {\n",
       "        vertical-align: middle;\n",
       "    }\n",
       "\n",
       "    .dataframe tbody tr th {\n",
       "        vertical-align: top;\n",
       "    }\n",
       "\n",
       "    .dataframe thead th {\n",
       "        text-align: right;\n",
       "    }\n",
       "</style>\n",
       "<table border=\"1\" class=\"dataframe\">\n",
       "  <thead>\n",
       "    <tr style=\"text-align: right;\">\n",
       "      <th></th>\n",
       "      <th>first_name</th>\n",
       "      <th>last_name</th>\n",
       "      <th>age</th>\n",
       "      <th>weight</th>\n",
       "    </tr>\n",
       "  </thead>\n",
       "  <tbody>\n",
       "    <tr>\n",
       "      <th>0</th>\n",
       "      <td>Anna</td>\n",
       "      <td>go</td>\n",
       "      <td>5.0</td>\n",
       "      <td>30.300</td>\n",
       "    </tr>\n",
       "    <tr>\n",
       "      <th>1</th>\n",
       "      <td>Bill</td>\n",
       "      <td>jk</td>\n",
       "      <td>10.0</td>\n",
       "      <td>49.200</td>\n",
       "    </tr>\n",
       "    <tr>\n",
       "      <th>2</th>\n",
       "      <td>Carl</td>\n",
       "      <td>kkl</td>\n",
       "      <td>15.0</td>\n",
       "      <td>59.400</td>\n",
       "    </tr>\n",
       "    <tr>\n",
       "      <th>3</th>\n",
       "      <td>Dig</td>\n",
       "      <td>mkn</td>\n",
       "      <td>20.0</td>\n",
       "      <td>70.800</td>\n",
       "    </tr>\n",
       "    <tr>\n",
       "      <th>4</th>\n",
       "      <td>fig</td>\n",
       "      <td>xza</td>\n",
       "      <td>0.0</td>\n",
       "      <td>0.000</td>\n",
       "    </tr>\n",
       "    <tr>\n",
       "      <th>5</th>\n",
       "      <td>gos</td>\n",
       "      <td>gos</td>\n",
       "      <td>NaN</td>\n",
       "      <td>112.134</td>\n",
       "    </tr>\n",
       "    <tr>\n",
       "      <th>6</th>\n",
       "      <td>gos</td>\n",
       "      <td>gos</td>\n",
       "      <td>NaN</td>\n",
       "      <td>112.134</td>\n",
       "    </tr>\n",
       "  </tbody>\n",
       "</table>\n",
       "</div>"
      ],
      "text/plain": [
       "   first_name last_name   age   weight\n",
       "0        Anna        go   5.0   30.300\n",
       "1        Bill        jk  10.0   49.200\n",
       "2        Carl       kkl  15.0   59.400\n",
       "3         Dig       mkn  20.0   70.800\n",
       "4         fig       xza   0.0    0.000\n",
       "5         gos       gos   NaN  112.134\n",
       "6         gos       gos   NaN  112.134"
      ]
     },
     "execution_count": 2,
     "metadata": {},
     "output_type": "execute_result"
    }
   ],
   "source": [
    "# load data file\n",
    "df = pd.read_csv(\"trim.csv\")\n",
    "\n",
    "# read data\n",
    "df"
   ]
  },
  {
   "cell_type": "markdown",
   "id": "a4a51783",
   "metadata": {},
   "source": [
    "### Sqlite connect to database"
   ]
  },
  {
   "cell_type": "code",
   "execution_count": 3,
   "id": "f831177e",
   "metadata": {},
   "outputs": [],
   "source": [
    "# create and connect to a database\n",
    "\n",
    "connection = db.connect('trim.db')"
   ]
  },
  {
   "cell_type": "code",
   "execution_count": 4,
   "id": "3eb5630e",
   "metadata": {},
   "outputs": [
    {
     "data": {
      "text/plain": [
       "7"
      ]
     },
     "execution_count": 4,
     "metadata": {},
     "output_type": "execute_result"
    }
   ],
   "source": [
    "# df.to_sql('table_name', connection_name) to create a table in database to run queries\n",
    "# load data to sqlite: fail, replace, append\n",
    "\n",
    "df.to_sql('trim_table', connection)"
   ]
  },
  {
   "cell_type": "code",
   "execution_count": 5,
   "id": "ff84ca97",
   "metadata": {},
   "outputs": [],
   "source": [
    "# load sql to ipython\n",
    "\n",
    "%load_ext sql"
   ]
  },
  {
   "cell_type": "code",
   "execution_count": 6,
   "id": "599b7d5b",
   "metadata": {},
   "outputs": [
    {
     "data": {
      "text/plain": [
       "'Connected: @trim.db'"
      ]
     },
     "execution_count": 6,
     "metadata": {},
     "output_type": "execute_result"
    }
   ],
   "source": [
    "# refer to the database\n",
    "\n",
    "%sql sqlite:///trim.db"
   ]
  },
  {
   "cell_type": "code",
   "execution_count": 7,
   "id": "a915d099",
   "metadata": {
    "scrolled": true
   },
   "outputs": [
    {
     "name": "stdout",
     "output_type": "stream",
     "text": [
      " * sqlite:///trim.db\n",
      "Done.\n"
     ]
    },
    {
     "data": {
      "text/html": [
       "<table>\n",
       "    <thead>\n",
       "        <tr>\n",
       "            <th>index</th>\n",
       "            <th>first_name</th>\n",
       "            <th>last_name</th>\n",
       "            <th>age</th>\n",
       "            <th>weight</th>\n",
       "        </tr>\n",
       "    </thead>\n",
       "    <tbody>\n",
       "        <tr>\n",
       "            <td>0</td>\n",
       "            <td>&nbsp;&nbsp;&nbsp;Anna</td>\n",
       "            <td>go</td>\n",
       "            <td>5.0</td>\n",
       "            <td>30.3</td>\n",
       "        </tr>\n",
       "        <tr>\n",
       "            <td>1</td>\n",
       "            <td>&nbsp;&nbsp;&nbsp;&nbsp;&nbsp;&nbsp;Bill</td>\n",
       "            <td>jk</td>\n",
       "            <td>10.0</td>\n",
       "            <td>49.2</td>\n",
       "        </tr>\n",
       "        <tr>\n",
       "            <td>2</td>\n",
       "            <td>Carl</td>\n",
       "            <td>kkl</td>\n",
       "            <td>15.0</td>\n",
       "            <td>59.4</td>\n",
       "        </tr>\n",
       "        <tr>\n",
       "            <td>3</td>\n",
       "            <td>Dig</td>\n",
       "            <td>mkn</td>\n",
       "            <td>20.0</td>\n",
       "            <td>70.8</td>\n",
       "        </tr>\n",
       "        <tr>\n",
       "            <td>4</td>\n",
       "            <td>&nbsp;&nbsp;fig</td>\n",
       "            <td>xza</td>\n",
       "            <td>0.0</td>\n",
       "            <td>0.0</td>\n",
       "        </tr>\n",
       "        <tr>\n",
       "            <td>5</td>\n",
       "            <td>gos</td>\n",
       "            <td>gos</td>\n",
       "            <td>None</td>\n",
       "            <td>112.134</td>\n",
       "        </tr>\n",
       "        <tr>\n",
       "            <td>6</td>\n",
       "            <td>gos</td>\n",
       "            <td>gos</td>\n",
       "            <td>None</td>\n",
       "            <td>112.134</td>\n",
       "        </tr>\n",
       "    </tbody>\n",
       "</table>"
      ],
      "text/plain": [
       "[(0, '   Anna', 'go', 5.0, 30.3),\n",
       " (1, '      Bill', 'jk', 10.0, 49.2),\n",
       " (2, 'Carl', 'kkl', 15.0, 59.4),\n",
       " (3, 'Dig', 'mkn', 20.0, 70.8),\n",
       " (4, '  fig', 'xza', 0.0, 0.0),\n",
       " (5, 'gos', 'gos', None, 112.134),\n",
       " (6, 'gos', 'gos', None, 112.134)]"
      ]
     },
     "execution_count": 7,
     "metadata": {},
     "output_type": "execute_result"
    }
   ],
   "source": [
    "%%sql\n",
    "\n",
    "SELECT * FROM trim_table;"
   ]
  },
  {
   "cell_type": "markdown",
   "id": "da18365c",
   "metadata": {},
   "source": [
    "### Trim"
   ]
  },
  {
   "cell_type": "code",
   "execution_count": 8,
   "id": "9f9bc8cb",
   "metadata": {},
   "outputs": [
    {
     "name": "stdout",
     "output_type": "stream",
     "text": [
      " * sqlite:///trim.db\n",
      "Done.\n"
     ]
    },
    {
     "data": {
      "text/html": [
       "<table>\n",
       "    <thead>\n",
       "        <tr>\n",
       "            <th>trimmed_name</th>\n",
       "        </tr>\n",
       "    </thead>\n",
       "    <tbody>\n",
       "        <tr>\n",
       "            <td>Anna</td>\n",
       "        </tr>\n",
       "        <tr>\n",
       "            <td>Bill</td>\n",
       "        </tr>\n",
       "        <tr>\n",
       "            <td>Carl</td>\n",
       "        </tr>\n",
       "        <tr>\n",
       "            <td>Dig</td>\n",
       "        </tr>\n",
       "        <tr>\n",
       "            <td>fig</td>\n",
       "        </tr>\n",
       "        <tr>\n",
       "            <td>gos</td>\n",
       "        </tr>\n",
       "        <tr>\n",
       "            <td>gos</td>\n",
       "        </tr>\n",
       "    </tbody>\n",
       "</table>"
      ],
      "text/plain": [
       "[('Anna',), ('Bill',), ('Carl',), ('Dig',), ('fig',), ('gos',), ('gos',)]"
      ]
     },
     "execution_count": 8,
     "metadata": {},
     "output_type": "execute_result"
    }
   ],
   "source": [
    "%%sql\n",
    "\n",
    "SELECT TRIM(first_name) AS trimmed_name\n",
    "FROM trim_table;"
   ]
  },
  {
   "cell_type": "markdown",
   "id": "01765187",
   "metadata": {},
   "source": [
    "### Upper & Lower"
   ]
  },
  {
   "cell_type": "code",
   "execution_count": 9,
   "id": "8e4bc3b1",
   "metadata": {},
   "outputs": [
    {
     "name": "stdout",
     "output_type": "stream",
     "text": [
      " * sqlite:///trim.db\n",
      "Done.\n"
     ]
    },
    {
     "data": {
      "text/html": [
       "<table>\n",
       "    <thead>\n",
       "        <tr>\n",
       "            <th>UPPER(&#x27;fig&#x27;)</th>\n",
       "            <th>LOWER(&#x27;FIG&#x27;)</th>\n",
       "        </tr>\n",
       "    </thead>\n",
       "    <tbody>\n",
       "        <tr>\n",
       "            <td>FIG</td>\n",
       "            <td>fig</td>\n",
       "        </tr>\n",
       "    </tbody>\n",
       "</table>"
      ],
      "text/plain": [
       "[('FIG', 'fig')]"
      ]
     },
     "execution_count": 9,
     "metadata": {},
     "output_type": "execute_result"
    }
   ],
   "source": [
    "%%sql\n",
    "\n",
    "SELECT UPPER('fig'), LOWER('FIG');"
   ]
  },
  {
   "cell_type": "markdown",
   "id": "29020cc8",
   "metadata": {},
   "source": [
    "### Replace"
   ]
  },
  {
   "cell_type": "code",
   "execution_count": 10,
   "id": "7656e4ae",
   "metadata": {},
   "outputs": [
    {
     "name": "stdout",
     "output_type": "stream",
     "text": [
      " * sqlite:///trim.db\n",
      "Done.\n"
     ]
    },
    {
     "data": {
      "text/html": [
       "<table>\n",
       "    <thead>\n",
       "        <tr>\n",
       "            <th>updated_weight</th>\n",
       "        </tr>\n",
       "    </thead>\n",
       "    <tbody>\n",
       "        <tr>\n",
       "            <td>50</td>\n",
       "        </tr>\n",
       "        <tr>\n",
       "            <td>49.2</td>\n",
       "        </tr>\n",
       "        <tr>\n",
       "            <td>59.4</td>\n",
       "        </tr>\n",
       "        <tr>\n",
       "            <td>70.8</td>\n",
       "        </tr>\n",
       "        <tr>\n",
       "            <td>0.0</td>\n",
       "        </tr>\n",
       "        <tr>\n",
       "            <td>112.134</td>\n",
       "        </tr>\n",
       "        <tr>\n",
       "            <td>112.134</td>\n",
       "        </tr>\n",
       "    </tbody>\n",
       "</table>"
      ],
      "text/plain": [
       "[('50',),\n",
       " ('49.2',),\n",
       " ('59.4',),\n",
       " ('70.8',),\n",
       " ('0.0',),\n",
       " ('112.134',),\n",
       " ('112.134',)]"
      ]
     },
     "execution_count": 10,
     "metadata": {},
     "output_type": "execute_result"
    }
   ],
   "source": [
    "%%sql\n",
    "\n",
    "SELECT REPLACE(weight, 30.3, 50) AS updated_weight\n",
    "FROM trim_table;"
   ]
  },
  {
   "cell_type": "markdown",
   "id": "0354e497",
   "metadata": {},
   "source": [
    "### NULLIF"
   ]
  },
  {
   "cell_type": "code",
   "execution_count": 11,
   "id": "2b8921b4",
   "metadata": {},
   "outputs": [
    {
     "name": "stdout",
     "output_type": "stream",
     "text": [
      " * sqlite:///trim.db\n",
      "Done.\n"
     ]
    },
    {
     "data": {
      "text/html": [
       "<table>\n",
       "    <thead>\n",
       "        <tr>\n",
       "            <th>age</th>\n",
       "            <th>exact_age</th>\n",
       "        </tr>\n",
       "    </thead>\n",
       "    <tbody>\n",
       "        <tr>\n",
       "            <td>5.0</td>\n",
       "            <td>5.0</td>\n",
       "        </tr>\n",
       "        <tr>\n",
       "            <td>10.0</td>\n",
       "            <td>10.0</td>\n",
       "        </tr>\n",
       "        <tr>\n",
       "            <td>15.0</td>\n",
       "            <td>15.0</td>\n",
       "        </tr>\n",
       "        <tr>\n",
       "            <td>20.0</td>\n",
       "            <td>20.0</td>\n",
       "        </tr>\n",
       "        <tr>\n",
       "            <td>0.0</td>\n",
       "            <td>None</td>\n",
       "        </tr>\n",
       "        <tr>\n",
       "            <td>None</td>\n",
       "            <td>None</td>\n",
       "        </tr>\n",
       "        <tr>\n",
       "            <td>None</td>\n",
       "            <td>None</td>\n",
       "        </tr>\n",
       "    </tbody>\n",
       "</table>"
      ],
      "text/plain": [
       "[(5.0, 5.0),\n",
       " (10.0, 10.0),\n",
       " (15.0, 15.0),\n",
       " (20.0, 20.0),\n",
       " (0.0, None),\n",
       " (None, None),\n",
       " (None, None)]"
      ]
     },
     "execution_count": 11,
     "metadata": {},
     "output_type": "execute_result"
    }
   ],
   "source": [
    "%%sql\n",
    "\n",
    "SELECT Age, NULLIF(Age, 0) AS exact_age\n",
    "FROM trim_table;"
   ]
  },
  {
   "cell_type": "markdown",
   "id": "c1697aad",
   "metadata": {},
   "source": [
    "### Substring"
   ]
  },
  {
   "cell_type": "markdown",
   "id": "f59cce19",
   "metadata": {},
   "source": [
    "> extract first three characters from first_name"
   ]
  },
  {
   "cell_type": "code",
   "execution_count": 12,
   "id": "405411ac",
   "metadata": {
    "scrolled": true
   },
   "outputs": [
    {
     "name": "stdout",
     "output_type": "stream",
     "text": [
      " * sqlite:///trim.db\n",
      "Done.\n"
     ]
    },
    {
     "data": {
      "text/html": [
       "<table>\n",
       "    <thead>\n",
       "        <tr>\n",
       "            <th>extract_name</th>\n",
       "        </tr>\n",
       "    </thead>\n",
       "    <tbody>\n",
       "        <tr>\n",
       "            <td>&nbsp;&nbsp;&nbsp;An</td>\n",
       "        </tr>\n",
       "        <tr>\n",
       "            <td>&nbsp;&nbsp;&nbsp;&nbsp;&nbsp;</td>\n",
       "        </tr>\n",
       "        <tr>\n",
       "            <td>Carl</td>\n",
       "        </tr>\n",
       "        <tr>\n",
       "            <td>Dig</td>\n",
       "        </tr>\n",
       "        <tr>\n",
       "            <td>&nbsp;&nbsp;fig</td>\n",
       "        </tr>\n",
       "        <tr>\n",
       "            <td>gos</td>\n",
       "        </tr>\n",
       "        <tr>\n",
       "            <td>gos</td>\n",
       "        </tr>\n",
       "    </tbody>\n",
       "</table>"
      ],
      "text/plain": [
       "[('   An',), ('     ',), ('Carl',), ('Dig',), ('  fig',), ('gos',), ('gos',)]"
      ]
     },
     "execution_count": 12,
     "metadata": {},
     "output_type": "execute_result"
    }
   ],
   "source": [
    "%%sql\n",
    "\n",
    "SELECT SUBSTRING(first_name, 1, 5) AS extract_name\n",
    "FROM trim_table;"
   ]
  },
  {
   "cell_type": "markdown",
   "id": "463441d0",
   "metadata": {},
   "source": [
    "### Length"
   ]
  },
  {
   "cell_type": "code",
   "execution_count": 13,
   "id": "084feadf",
   "metadata": {},
   "outputs": [
    {
     "name": "stdout",
     "output_type": "stream",
     "text": [
      " * sqlite:///trim.db\n",
      "Done.\n"
     ]
    },
    {
     "data": {
      "text/html": [
       "<table>\n",
       "    <thead>\n",
       "        <tr>\n",
       "            <th>last_name</th>\n",
       "        </tr>\n",
       "    </thead>\n",
       "    <tbody>\n",
       "        <tr>\n",
       "            <td>kkl</td>\n",
       "        </tr>\n",
       "        <tr>\n",
       "            <td>mkn</td>\n",
       "        </tr>\n",
       "        <tr>\n",
       "            <td>xza</td>\n",
       "        </tr>\n",
       "        <tr>\n",
       "            <td>gos</td>\n",
       "        </tr>\n",
       "        <tr>\n",
       "            <td>gos</td>\n",
       "        </tr>\n",
       "    </tbody>\n",
       "</table>"
      ],
      "text/plain": [
       "[('kkl',), ('mkn',), ('xza',), ('gos',), ('gos',)]"
      ]
     },
     "execution_count": 13,
     "metadata": {},
     "output_type": "execute_result"
    }
   ],
   "source": [
    "%%sql\n",
    "\n",
    "SELECT last_name\n",
    "FROM trim_table\n",
    "WHERE LENGTH(last_name) > 2;"
   ]
  },
  {
   "cell_type": "code",
   "execution_count": 14,
   "id": "8ad8a50e",
   "metadata": {},
   "outputs": [
    {
     "name": "stdout",
     "output_type": "stream",
     "text": [
      " * sqlite:///trim.db\n",
      "Done.\n"
     ]
    },
    {
     "data": {
      "text/html": [
       "<table>\n",
       "    <thead>\n",
       "        <tr>\n",
       "            <th>first_name</th>\n",
       "            <th>weight</th>\n",
       "            <th>rounded_weight</th>\n",
       "        </tr>\n",
       "    </thead>\n",
       "    <tbody>\n",
       "        <tr>\n",
       "            <td>&nbsp;&nbsp;&nbsp;Anna</td>\n",
       "            <td>30.3</td>\n",
       "            <td>30.0</td>\n",
       "        </tr>\n",
       "        <tr>\n",
       "            <td>&nbsp;&nbsp;&nbsp;&nbsp;&nbsp;&nbsp;Bill</td>\n",
       "            <td>49.2</td>\n",
       "            <td>49.0</td>\n",
       "        </tr>\n",
       "        <tr>\n",
       "            <td>Carl</td>\n",
       "            <td>59.4</td>\n",
       "            <td>59.0</td>\n",
       "        </tr>\n",
       "        <tr>\n",
       "            <td>Dig</td>\n",
       "            <td>70.8</td>\n",
       "            <td>71.0</td>\n",
       "        </tr>\n",
       "        <tr>\n",
       "            <td>&nbsp;&nbsp;fig</td>\n",
       "            <td>0.0</td>\n",
       "            <td>0.0</td>\n",
       "        </tr>\n",
       "        <tr>\n",
       "            <td>gos</td>\n",
       "            <td>112.134</td>\n",
       "            <td>112.0</td>\n",
       "        </tr>\n",
       "        <tr>\n",
       "            <td>gos</td>\n",
       "            <td>112.134</td>\n",
       "            <td>112.0</td>\n",
       "        </tr>\n",
       "    </tbody>\n",
       "</table>"
      ],
      "text/plain": [
       "[('   Anna', 30.3, 30.0),\n",
       " ('      Bill', 49.2, 49.0),\n",
       " ('Carl', 59.4, 59.0),\n",
       " ('Dig', 70.8, 71.0),\n",
       " ('  fig', 0.0, 0.0),\n",
       " ('gos', 112.134, 112.0),\n",
       " ('gos', 112.134, 112.0)]"
      ]
     },
     "execution_count": 14,
     "metadata": {},
     "output_type": "execute_result"
    }
   ],
   "source": [
    "%%sql\n",
    "\n",
    "SELECT first_name, weight, ROUND(weight, -1) AS rounded_weight\n",
    "FROM trim_table;"
   ]
  },
  {
   "cell_type": "markdown",
   "id": "167e2a31",
   "metadata": {},
   "source": [
    "### Identify missing ISNULL & IS NOT NULL"
   ]
  },
  {
   "cell_type": "markdown",
   "id": "4fc04450",
   "metadata": {},
   "source": [
    "> index 5 & 6: age is blank fields"
   ]
  },
  {
   "cell_type": "code",
   "execution_count": 15,
   "id": "83a09209",
   "metadata": {},
   "outputs": [
    {
     "name": "stdout",
     "output_type": "stream",
     "text": [
      " * sqlite:///trim.db\n",
      "Done.\n"
     ]
    },
    {
     "data": {
      "text/html": [
       "<table>\n",
       "    <thead>\n",
       "        <tr>\n",
       "            <th>index</th>\n",
       "            <th>first_name</th>\n",
       "            <th>last_name</th>\n",
       "            <th>age</th>\n",
       "            <th>weight</th>\n",
       "        </tr>\n",
       "    </thead>\n",
       "    <tbody>\n",
       "        <tr>\n",
       "            <td>5</td>\n",
       "            <td>gos</td>\n",
       "            <td>gos</td>\n",
       "            <td>None</td>\n",
       "            <td>112.134</td>\n",
       "        </tr>\n",
       "        <tr>\n",
       "            <td>6</td>\n",
       "            <td>gos</td>\n",
       "            <td>gos</td>\n",
       "            <td>None</td>\n",
       "            <td>112.134</td>\n",
       "        </tr>\n",
       "    </tbody>\n",
       "</table>"
      ],
      "text/plain": [
       "[(5, 'gos', 'gos', None, 112.134), (6, 'gos', 'gos', None, 112.134)]"
      ]
     },
     "execution_count": 15,
     "metadata": {},
     "output_type": "execute_result"
    }
   ],
   "source": [
    "%%sql\n",
    "\n",
    "SELECT * FROM trim_table WHERE age IS NULL;"
   ]
  },
  {
   "cell_type": "code",
   "execution_count": 16,
   "id": "d1661aa1",
   "metadata": {},
   "outputs": [
    {
     "name": "stdout",
     "output_type": "stream",
     "text": [
      " * sqlite:///trim.db\n",
      "Done.\n"
     ]
    },
    {
     "data": {
      "text/html": [
       "<table>\n",
       "    <thead>\n",
       "        <tr>\n",
       "            <th>index</th>\n",
       "            <th>first_name</th>\n",
       "            <th>last_name</th>\n",
       "            <th>age</th>\n",
       "            <th>weight</th>\n",
       "        </tr>\n",
       "    </thead>\n",
       "    <tbody>\n",
       "        <tr>\n",
       "            <td>0</td>\n",
       "            <td>&nbsp;&nbsp;&nbsp;Anna</td>\n",
       "            <td>go</td>\n",
       "            <td>5.0</td>\n",
       "            <td>30.3</td>\n",
       "        </tr>\n",
       "        <tr>\n",
       "            <td>1</td>\n",
       "            <td>&nbsp;&nbsp;&nbsp;&nbsp;&nbsp;&nbsp;Bill</td>\n",
       "            <td>jk</td>\n",
       "            <td>10.0</td>\n",
       "            <td>49.2</td>\n",
       "        </tr>\n",
       "        <tr>\n",
       "            <td>2</td>\n",
       "            <td>Carl</td>\n",
       "            <td>kkl</td>\n",
       "            <td>15.0</td>\n",
       "            <td>59.4</td>\n",
       "        </tr>\n",
       "        <tr>\n",
       "            <td>3</td>\n",
       "            <td>Dig</td>\n",
       "            <td>mkn</td>\n",
       "            <td>20.0</td>\n",
       "            <td>70.8</td>\n",
       "        </tr>\n",
       "        <tr>\n",
       "            <td>4</td>\n",
       "            <td>&nbsp;&nbsp;fig</td>\n",
       "            <td>xza</td>\n",
       "            <td>0.0</td>\n",
       "            <td>0.0</td>\n",
       "        </tr>\n",
       "    </tbody>\n",
       "</table>"
      ],
      "text/plain": [
       "[(0, '   Anna', 'go', 5.0, 30.3),\n",
       " (1, '      Bill', 'jk', 10.0, 49.2),\n",
       " (2, 'Carl', 'kkl', 15.0, 59.4),\n",
       " (3, 'Dig', 'mkn', 20.0, 70.8),\n",
       " (4, '  fig', 'xza', 0.0, 0.0)]"
      ]
     },
     "execution_count": 16,
     "metadata": {},
     "output_type": "execute_result"
    }
   ],
   "source": [
    "%%sql\n",
    "\n",
    "SELECT * FROM trim_table WHERE age IS NOT NULL;"
   ]
  },
  {
   "cell_type": "markdown",
   "id": "9e9f370e",
   "metadata": {},
   "source": [
    "### Remove duplicates"
   ]
  },
  {
   "cell_type": "code",
   "execution_count": 17,
   "id": "45d760c9",
   "metadata": {},
   "outputs": [
    {
     "name": "stdout",
     "output_type": "stream",
     "text": [
      " * sqlite:///trim.db\n",
      "Done.\n"
     ]
    },
    {
     "data": {
      "text/html": [
       "<table>\n",
       "    <thead>\n",
       "        <tr>\n",
       "            <th>first_name</th>\n",
       "            <th>last_name</th>\n",
       "        </tr>\n",
       "    </thead>\n",
       "    <tbody>\n",
       "        <tr>\n",
       "            <td>&nbsp;&nbsp;&nbsp;Anna</td>\n",
       "            <td>go</td>\n",
       "        </tr>\n",
       "        <tr>\n",
       "            <td>&nbsp;&nbsp;&nbsp;&nbsp;&nbsp;&nbsp;Bill</td>\n",
       "            <td>jk</td>\n",
       "        </tr>\n",
       "        <tr>\n",
       "            <td>Carl</td>\n",
       "            <td>kkl</td>\n",
       "        </tr>\n",
       "        <tr>\n",
       "            <td>Dig</td>\n",
       "            <td>mkn</td>\n",
       "        </tr>\n",
       "        <tr>\n",
       "            <td>&nbsp;&nbsp;fig</td>\n",
       "            <td>xza</td>\n",
       "        </tr>\n",
       "        <tr>\n",
       "            <td>gos</td>\n",
       "            <td>gos</td>\n",
       "        </tr>\n",
       "    </tbody>\n",
       "</table>"
      ],
      "text/plain": [
       "[('   Anna', 'go'),\n",
       " ('      Bill', 'jk'),\n",
       " ('Carl', 'kkl'),\n",
       " ('Dig', 'mkn'),\n",
       " ('  fig', 'xza'),\n",
       " ('gos', 'gos')]"
      ]
     },
     "execution_count": 17,
     "metadata": {},
     "output_type": "execute_result"
    }
   ],
   "source": [
    "%%sql\n",
    "\n",
    "SELECT DISTINCT first_name, last_name\n",
    "FROM trim_table;"
   ]
  }
 ],
 "metadata": {
  "kernelspec": {
   "display_name": "Python 3 (ipykernel)",
   "language": "python",
   "name": "python3"
  },
  "language_info": {
   "codemirror_mode": {
    "name": "ipython",
    "version": 3
   },
   "file_extension": ".py",
   "mimetype": "text/x-python",
   "name": "python",
   "nbconvert_exporter": "python",
   "pygments_lexer": "ipython3",
   "version": "3.11.5"
  }
 },
 "nbformat": 4,
 "nbformat_minor": 5
}
